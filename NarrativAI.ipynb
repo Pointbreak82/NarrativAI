{
  "nbformat": 4,
  "nbformat_minor": 0,
  "metadata": {
    "colab": {
      "provenance": [],
      "authorship_tag": "ABX9TyMUJR8Ix1ju60AzoXBpvbKT",
      "include_colab_link": true
    },
    "kernelspec": {
      "name": "python3",
      "display_name": "Python 3"
    },
    "language_info": {
      "name": "python"
    }
  },
  "cells": [
    {
      "cell_type": "markdown",
      "metadata": {
        "id": "view-in-github",
        "colab_type": "text"
      },
      "source": [
        "<a href=\"https://colab.research.google.com/github/Pointbreak82/NarrativAI/blob/main/NarrativAI.ipynb\" target=\"_parent\"><img src=\"https://colab.research.google.com/assets/colab-badge.svg\" alt=\"Open In Colab\"/></a>"
      ]
    },
    {
      "cell_type": "code",
      "source": [
        "pip install gradio"
      ],
      "metadata": {
        "id": "O_s2wxU1lQbQ"
      },
      "execution_count": null,
      "outputs": []
    },
    {
      "cell_type": "code",
      "source": [
        "pip install openai"
      ],
      "metadata": {
        "id": "evxwyHcglUHQ"
      },
      "execution_count": null,
      "outputs": []
    },
    {
      "cell_type": "code",
      "source": [
        "import gradio as gr\n",
        "import openai"
      ],
      "metadata": {
        "id": "5lVHK9V1OkUP"
      },
      "execution_count": 14,
      "outputs": []
    },
    {
      "cell_type": "code",
      "source": [
        "# API KEY\n",
        "openai.api_key = 'Your API Key'"
      ],
      "metadata": {
        "id": "yAWpGlKpPvLt"
      },
      "execution_count": 15,
      "outputs": []
    },
    {
      "cell_type": "code",
      "source": [
        "# FUNCTION TO GENERATE THE STORY\n",
        "def generate_story(prompt, protagonist_name, genre, story_length, protagonist_gender, story_tone, location, supporting_characters):\n",
        "    # PROMPT\n",
        "    complete_prompt = f\"In a {genre} {location}, {protagonist_name}, a {protagonist_gender}, embarked on a {story_tone} journey. {prompt} They were accompanied by {supporting_characters}.\"\n",
        "\n",
        "    # GPT-3 API\n",
        "    response = openai.Completion.create(\n",
        "        engine='text-davinci-003',\n",
        "        prompt=complete_prompt,\n",
        "        max_tokens=story_length,\n",
        "        temperature=0.7,\n",
        "        top_p=1.0,\n",
        "        frequency_penalty=0.0,\n",
        "        presence_penalty=0.0\n",
        "    )\n",
        "\n",
        "    # RETRIEVE THE STORY\n",
        "    story = response.choices[0].text.strip()\n",
        "\n",
        "    # CAPITALIZE FIRST LETTER OF EACH PARA\n",
        "    paragraphs = story.split(\"\\n\")\n",
        "    capitalized_paragraphs = [paragraph.capitalize() for paragraph in paragraphs]\n",
        "    capitalized_story = \"\\n\".join(capitalized_paragraphs)\n",
        "    return capitalized_story + \".\"\n"
      ],
      "metadata": {
        "id": "NuQ0gOn9PvOg"
      },
      "execution_count": 16,
      "outputs": []
    },
    {
      "cell_type": "code",
      "source": [
        "# GRADIO INTERFACE\n",
        "prompt_input = gr.inputs.Textbox(lines=3, label=\"Enter a Prompt\", default=\"Once upon a time...\")\n",
        "protagonist_input = gr.inputs.Textbox(label=\"Protagonist's Name\", default=\"Alice\")\n",
        "genre_input = gr.inputs.Dropdown([\"Fantasy\", \"Adventure\", \"Mystery\", \"Romance\", \"Sci-fi\", \"Horror\", \"Historical\", \"Comedy\", \"Drama\", \"Thriller\"], label=\"Genre\", default=\"Fantasy\")\n",
        "length_input = gr.inputs.Slider(minimum=100, maximum=1000, step=100, label=\"Story Length\", default=500)\n",
        "protagonist_gender_input = gr.inputs.Radio([\"Male\", \"Female\"], label=\"Protagonist's Gender\", default=\"Female\")\n",
        "story_tone_input = gr.inputs.Radio([\"Funny\", \"Serious\", \"Mysterious\"], label=\"Story Tone\", default=\"Serious\")\n",
        "location_input = gr.inputs.Textbox(label=\"Location\", default=\"Enchanted Forest\")\n",
        "supporting_characters_input = gr.inputs.Textbox(label=\"Supporting Characters\", default=\"a talking rabbit\")\n",
        "\n",
        "outputs = gr.outputs.Textbox(label=\"Generated Story\", type=\"text\")\n",
        "\n",
        "iface = gr.Interface(\n",
        "    fn=generate_story,\n",
        "    inputs=[prompt_input, protagonist_input, genre_input, length_input, protagonist_gender_input, story_tone_input, location_input, supporting_characters_input],\n",
        "    outputs=outputs,\n",
        "    title=\"NarrativAI\",\n",
        "    description=\"Enter a prompt, protagonist's name, genre, story length, and other details to generate an interactive story.\",\n",
        "    examples=[\n",
        "        [\"A brave hero saves the day.\", \"Leo\", \"Adventure\", 400, \"Male\", \"Serious\", \"Mysterious Island\", \"a loyal companion\"],\n",
        "        [\"A funny mishap unfolds during a family vacation.\", \"Cynthia\", \"Comedy\", 300, \"Female\", \"Funny\", \"Beach\", \"silly siblings\"]\n",
        "    ],\n",
        "    allow_flagging=False,\n",
        "    allow_screenshot=False,\n",
        "    theme=\"default\",\n",
        "    layout=\"unaligned\",\n",
        "    inputs_column_width=600,\n",
        "    outputs_column_width=400,\n",
        ")\n",
        "\n",
        "if __name__ == \"__main__\":\n",
        "    iface.launch()\n"
      ],
      "metadata": {
        "id": "pVr7JqoLPvTu"
      },
      "execution_count": null,
      "outputs": []
    }
  ]
}